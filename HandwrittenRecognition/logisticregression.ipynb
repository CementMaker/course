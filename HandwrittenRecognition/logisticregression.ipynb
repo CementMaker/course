{
 "cells": [
  {
   "cell_type": "code",
   "execution_count": 36,
   "metadata": {
    "collapsed": true
   },
   "outputs": [],
   "source": [
    "import tensorflow as tf\n",
    "from tensorflow.examples.tutorials.mnist import input_data"
   ]
  },
  {
   "cell_type": "code",
   "execution_count": 37,
   "metadata": {
    "collapsed": false
   },
   "outputs": [
    {
     "name": "stdout",
     "output_type": "stream",
     "text": [
      "Extracting ./data/fashion/train-images-idx3-ubyte.gz\n",
      "Extracting ./data/fashion/train-labels-idx1-ubyte.gz\n",
      "Extracting ./data/fashion/t10k-images-idx3-ubyte.gz\n",
      "Extracting ./data/fashion/t10k-labels-idx1-ubyte.gz\n"
     ]
    }
   ],
   "source": [
    "data = input_data.read_data_sets('./data/fashion')"
   ]
  },
  {
   "cell_type": "code",
   "execution_count": 38,
   "metadata": {
    "collapsed": false
   },
   "outputs": [
    {
     "name": "stdout",
     "output_type": "stream",
     "text": [
      "(5000, 784) (5000,)\n"
     ]
    }
   ],
   "source": [
    "sample = data.train.next_batch(5000)\n",
    "dataset = sample[0]\n",
    "dataLabel = sample[1]\n",
    "print(dataset.shape, dataLabel.shape)"
   ]
  },
  {
   "cell_type": "code",
   "execution_count": 74,
   "metadata": {
    "collapsed": false
   },
   "outputs": [
    {
     "data": {
      "image/png": "[encoded data removed]",
      "text/plain": [
       "<matplotlib.figure.Figure at 0x1285e3eb8>"
      ]
     },
     "metadata": {},
     "output_type": "display_data"
    }
   ],
   "source": [
    "import random\n",
    "import matplotlib.pyplot as plt\n",
    "\n",
    "plt.subplot(221)\n",
    "plt.imshow(dataset[random.randint(1, 500) + 100].reshape(28, 28), cmap=plt.get_cmap('PuBuGn_r'))\n",
    "plt.subplot(222)\n",
    "plt.imshow(dataset[random.randint(1, 500) + 200].reshape(28, 28), cmap=plt.get_cmap('PuBuGn_r'))\n",
    "plt.subplot(223)\n",
    "plt.imshow(dataset[random.randint(1, 500) + 300].reshape(28, 28), cmap=plt.get_cmap('PuBuGn_r'))\n",
    "plt.subplot(224)\n",
    "plt.imshow(dataset[random.randint(1, 500) + 400].reshape(28, 28), cmap=plt.get_cmap('PuBuGn_r'))\n",
    "plt.show()\n",
    "plt.close()"
   ]
  },
  {
   "cell_type": "code",
   "execution_count": 65,
   "metadata": {
    "collapsed": false
   },
   "outputs": [
    {
     "name": "stdout",
     "output_type": "stream",
     "text": [
      "(4500, 784)\n",
      "<class 'numpy.ndarray'>\n",
      "(500, 784)\n",
      "<class 'numpy.ndarray'>\n",
      "(4500,)\n",
      "<class 'numpy.ndarray'>\n",
      "(500,)\n",
      "<class 'numpy.ndarray'>\n",
      "(5000, 784)\n",
      "<class 'numpy.ndarray'>\n",
      "(5000,)\n",
      "<class 'numpy.ndarray'>\n"
     ]
    }
   ],
   "source": [
    "from sklearn.model_selection import train_test_split\n",
    "from sklearn.metrics import classification_report\n",
    "train_data, test_data, train_label, test_label = train_test_split(dataset, dataLabel, test_size=0.1)\n",
    "\n",
    "data = [train_data, test_data, train_label, test_label, dataset, dataLabel]\n",
    "for idx in data:\n",
    "    print(idx.shape)\n",
    "    print(type(idx))"
   ]
  },
  {
   "cell_type": "code",
   "execution_count": 66,
   "metadata": {
    "collapsed": false
   },
   "outputs": [],
   "source": [
    "from sklearn.linear_model import LogisticRegression"
   ]
  },
  {
   "cell_type": "code",
   "execution_count": 67,
   "metadata": {
    "collapsed": false
   },
   "outputs": [
    {
     "name": "stdout",
     "output_type": "stream",
     "text": [
      "0.824\n"
     ]
    }
   ],
   "source": [
    "from sklearn.linear_model import LogisticRegression\n",
    "logisticregression = LogisticRegression(C=0.1)\n",
    "logisticregression.fit(train_data, train_label)\n",
    "print(logisticregression.score(test_data, test_label))"
   ]
  },
  {
   "cell_type": "code",
   "execution_count": 68,
   "metadata": {
    "collapsed": false
   },
   "outputs": [
    {
     "name": "stdout",
     "output_type": "stream",
     "text": [
      "0.8817777777777778\n"
     ]
    }
   ],
   "source": [
    "print(logisticregression.score(train_data, train_label))"
   ]
  },
  {
   "cell_type": "code",
   "execution_count": 78,
   "metadata": {
    "collapsed": false
   },
   "outputs": [
    {
     "name": "stdout",
     "output_type": "stream",
     "text": [
      "0.81 0.8322222222222222\n",
      "0.822 0.8222222222222222\n",
      "0.824 0.8444444444444444\n",
      "0.826 0.8133333333333334\n",
      "0.814 0.8233333333333334\n"
     ]
    }
   ],
   "source": [
    "import numpy as np\n",
    "\n",
    "from sklearn.model_selection import KFold\n",
    "from sklearn.metrics import accuracy_score\n",
    "\n",
    "\n",
    "kf = KFold(n_splits=5, shuffle=False)\n",
    "\n",
    "train_ans, test_ans = [], []\n",
    "for train_index, test_index in kf.split(train_data):\n",
    "    # print(train_index, test_index)\n",
    "    train_data_kflod = train_data[train_index]\n",
    "    test_data_kflod = train_data[test_index]\n",
    "    train_label_kflod = train_label[train_index]\n",
    "    test_label_kflod = train_label[test_index]\n",
    "    # print(train_data_kflod.shape, test_data_kflod.shape)\n",
    "    logisticregression = LogisticRegression(C=0.1)\n",
    "    logisticregression.fit(train_data_kflod, train_label_kflod)\n",
    "    \n",
    "    predict_train_kflod = logisticregression.predict(test_data_kflod)\n",
    "    predict_test = logisticregression.predict(test_data)\n",
    "    \n",
    "    print(accuracy_score(predict_test, test_label), accuracy_score(predict_train_kflod, test_label_kflod))\n",
    "    \n",
    "    train_ans = np.append(train_ans, predict_train_kflod)\n",
    "    test_ans.append(predict_test)"
   ]
  },
  {
   "cell_type": "code",
   "execution_count": 70,
   "metadata": {
    "collapsed": false
   },
   "outputs": [
    {
     "data": {
      "text/plain": [
       "0.8268888888888889"
      ]
     },
     "execution_count": 70,
     "metadata": {},
     "output_type": "execute_result"
    }
   ],
   "source": [
    "accuracy_score(train_ans, train_label)"
   ]
  },
  {
   "cell_type": "code",
   "execution_count": 71,
   "metadata": {
    "collapsed": false
   },
   "outputs": [
    {
     "data": {
      "text/plain": [
       "(5, 500)"
      ]
     },
     "execution_count": 71,
     "metadata": {},
     "output_type": "execute_result"
    }
   ],
   "source": [
    "np.array(test_ans).shape"
   ]
  },
  {
   "cell_type": "code",
   "execution_count": 77,
   "metadata": {
    "collapsed": false
   },
   "outputs": [
    {
     "name": "stdout",
     "output_type": "stream",
     "text": [
      "0.824\n"
     ]
    }
   ],
   "source": [
    "from collections import Counter\n",
    "\n",
    "ans = []\n",
    "for sample in np.array(test_ans).T:\n",
    "    ans.append(sorted(Counter(sample).items(), key=lambda x: x[1], reverse=True)[0][0])\n",
    "\n",
    "print(accuracy_score(ans, test_label))"
   ]
  },
  {
   "cell_type": "code",
   "execution_count": 76,
   "metadata": {
    "collapsed": false
   },
   "outputs": [
    {
     "data": {
      "text/plain": [
       "{1: 3, 2: 3, 3: 1}"
      ]
     },
     "execution_count": 76,
     "metadata": {},
     "output_type": "execute_result"
    }
   ],
   "source": [
    "dict(Counter([1,1,1,2,2,2,3]))"
   ]
  },
  {
   "cell_type": "code",
   "execution_count": null,
   "metadata": {
    "collapsed": true
   },
   "outputs": [],
   "source": []
  },
  {
   "cell_type": "code",
   "execution_count": null,
   "metadata": {
    "collapsed": true
   },
   "outputs": [],
   "source": []
  },
  {
   "cell_type": "code",
   "execution_count": null,
   "metadata": {
    "collapsed": true
   },
   "outputs": [],
   "source": []
  },
  {
   "cell_type": "code",
   "execution_count": null,
   "metadata": {
    "collapsed": true
   },
   "outputs": [],
   "source": []
  },
  {
   "cell_type": "code",
   "execution_count": null,
   "metadata": {
    "collapsed": true
   },
   "outputs": [],
   "source": [
    "\n"
   ]
  },
  {
   "cell_type": "code",
   "execution_count": null,
   "metadata": {
    "collapsed": true
   },
   "outputs": [],
   "source": []
  }
 ],
 "metadata": {
  "kernelspec": {
   "display_name": "Python 3",
   "language": "python",
   "name": "python3"
  },
  "language_info": {
   "codemirror_mode": {
    "name": "ipython",
    "version": 3
   },
   "file_extension": ".py",
   "mimetype": "text/x-python",
   "name": "python",
   "nbconvert_exporter": "python",
   "pygments_lexer": "ipython3",
   "version": "3.6.0"
  }
 },
 "nbformat": 4,
 "nbformat_minor": 2
}
