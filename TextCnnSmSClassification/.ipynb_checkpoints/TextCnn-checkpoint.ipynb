{
 "cells": [
  {
   "cell_type": "code",
   "execution_count": 9,
   "metadata": {
    "collapsed": false
   },
   "outputs": [],
   "source": [
    "import pandas as pd\n",
    "import tensorflow as tf\n",
    "df_data = pd.read_table(\"./data/SMSSpamCollection\", header=None, sep='\\t')\n",
    "df_data.columns = ['label', 'sentence']"
   ]
  },
  {
   "cell_type": "code",
   "execution_count": 10,
   "metadata": {
    "collapsed": false
   },
   "outputs": [
    {
     "data": {
      "text/plain": [
       "Counter({'ham': 4825, 'spam': 747})"
      ]
     },
     "execution_count": 10,
     "metadata": {},
     "output_type": "execute_result"
    }
   ],
   "source": [
    "from collections import Counter\n",
    "label, sentences = df_data['label'], df_data['sentence']\n",
    "Counter(label)"
   ]
  },
  {
   "cell_type": "code",
   "execution_count": 11,
   "metadata": {
    "collapsed": false
   },
   "outputs": [
    {
     "data": {
      "image/png": "[encoded data removed]",
      "text/plain": [
       "<matplotlib.figure.Figure at 0x1274f82b0>"
      ]
     },
     "metadata": {},
     "output_type": "display_data"
    }
   ],
   "source": [
    "import matplotlib.pyplot as plt\n",
    "from collections import Counter\n",
    "\n",
    "\n",
    "length = []\n",
    "for sentence in sentences:\n",
    "    length.append(len(sentence))\n",
    "    \n",
    "mat = dict(sorted(Counter(length).items(), key=lambda x: x[0]))\n",
    "x, y = list(mat.keys()),  list(mat.values())\n",
    "\n",
    "plt.plot(x, y)\n",
    "plt.show()\n",
    "plt.close()"
   ]
  },
  {
   "cell_type": "code",
   "execution_count": 12,
   "metadata": {
    "collapsed": true
   },
   "outputs": [],
   "source": [
    "def one_hot_encoder(label):\n",
    "    import numpy as np\n",
    "    one_hot_label = np.zeros(shape=[len(label), 2])\n",
    "    one_hot_label[np.arange(0, len(label)), label] = 1\n",
    "    return one_hot_label"
   ]
  },
  {
   "cell_type": "code",
   "execution_count": 13,
   "metadata": {
    "collapsed": false
   },
   "outputs": [
    {
     "name": "stdout",
     "output_type": "stream",
     "text": [
      "WARNING:tensorflow:From <ipython-input-13-91f0194fdf36>:15: VocabularyProcessor.__init__ (from tensorflow.contrib.learn.python.learn.preprocessing.text) is deprecated and will be removed in a future version.\n",
      "Instructions for updating:\n",
      "Please use tensorflow/transform or tf.data.\n",
      "WARNING:tensorflow:From /Users/tang/anaconda3/lib/python3.6/site-packages/tensorflow/contrib/learn/python/learn/preprocessing/text.py:154: CategoricalVocabulary.__init__ (from tensorflow.contrib.learn.python.learn.preprocessing.categorical_vocabulary) is deprecated and will be removed in a future version.\n",
      "Instructions for updating:\n",
      "Please use tensorflow/transform or tf.data.\n",
      "WARNING:tensorflow:From /Users/tang/anaconda3/lib/python3.6/site-packages/tensorflow/contrib/learn/python/learn/preprocessing/text.py:170: tokenizer (from tensorflow.contrib.learn.python.learn.preprocessing.text) is deprecated and will be removed in a future version.\n",
      "Instructions for updating:\n",
      "Please use tensorflow/transform or tf.data.\n",
      "number of words : 5395\n"
     ]
    }
   ],
   "source": [
    "import numpy as np\n",
    "\n",
    "from tensorflow.contrib import learn\n",
    "from collections import Counter\n",
    "from sklearn.model_selection import train_test_split\n",
    "\n",
    "class Feature(object):\n",
    "    def __init__(self):\n",
    "        self.train_df = pd.read_table(\"./data/SMSSpamCollection\", header=None, sep='\\t')\n",
    "        self.train_df.columns = ['label', 'sentence']\n",
    "        self.sentence = self.train_df['sentence'].values\n",
    "        self.label = [1 if label == 'ham' else 0 for label in self.train_df['label'].values]\n",
    "        self.one_hot_label = one_hot_encoder(self.label)\n",
    "\n",
    "        self.vocab_processor = learn.preprocessing.VocabularyProcessor(200, min_frequency=1)\n",
    "        self.all_context = np.array(list(self.vocab_processor.fit_transform(self.sentence)))\n",
    "\n",
    "        print(\"number of words :\", len(self.vocab_processor.vocabulary_))\n",
    "        self.train_data, self.dev_data, self.train_label, self.dev_label = \\\n",
    "            train_test_split(self.all_context, self.one_hot_label, test_size=0.05)\n",
    "        # print(\"shape of train data:\", self.train_data.shape)\n",
    "        # print(\"shape of dev data:\", self.dev_data.shape)\n",
    "        # print(\"shape of train label:\", self.train_label.shape)\n",
    "        # print(\"shape of dev label:\", self.dev_label.shape)\n",
    "\n",
    "feature = Feature()"
   ]
  },
  {
   "cell_type": "code",
   "execution_count": 16,
   "metadata": {
    "collapsed": false
   },
   "outputs": [],
   "source": [
    "import random\n",
    "\n",
    "def get_batch(epoches, batch_size, data, label):\n",
    "    # train_x, train_y = pickle.load(open(\"corpus_train.pkl\", \"rb\"))\n",
    "    samples = list(zip(data, label))\n",
    "    random.shuffle(samples)\n",
    "    for epoch in range(epoches):\n",
    "        for batch in range(0, len(samples), batch_size):\n",
    "            if batch + batch_size < len(samples):\n",
    "                yield samples[batch: (batch + batch_size)]"
   ]
  },
  {
   "cell_type": "code",
   "execution_count": 52,
   "metadata": {
    "collapsed": true
   },
   "outputs": [],
   "source": [
    "import datetime\n",
    "\n",
    "def train_step(model, batch, label):\n",
    "    feed_dict = {\n",
    "        model.model.input_sentence: batch,\n",
    "        model.model.label: label\n",
    "    }\n",
    "    _, summary, step, loss, accuracy, = model.sess.run(\n",
    "        fetches=[model.optimizer,\n",
    "                 model.merged_summary_train,\n",
    "                 model.global_step,\n",
    "                 model.model.loss,\n",
    "                 model.model.accuracy],\n",
    "        feed_dict=feed_dict)\n",
    "    model.summary_writer_train.add_summary(summary, step)\n",
    "    time_str = datetime.datetime.now().isoformat()\n",
    "    # print(\"{}: step {}, loss {}, accuracy {}\".format(time_str, step, loss, accuracy))"
   ]
  },
  {
   "cell_type": "code",
   "execution_count": 53,
   "metadata": {
    "collapsed": true
   },
   "outputs": [],
   "source": [
    "def dev_step(model, batch, label, return_predict=False):\n",
    "    feed_dict = {\n",
    "        model.model.input_sentence: batch,\n",
    "        model.model.label: label\n",
    "    }\n",
    "    summary, step, loss, accuracy, predict = model.sess.run(\n",
    "        fetches=[model.merged_summary_test,\n",
    "                 model.global_step,\n",
    "                 model.model.loss,\n",
    "                 model.model.accuracy,\n",
    "                 model.model.predictions],\n",
    "        feed_dict=feed_dict)\n",
    "    model.summary_writer_test.add_summary(summary, step)\n",
    "    print(\"test: step {}, loss {}, accuracy {}\".format(step, loss, accuracy))\n",
    "    if return_predict == 1:\n",
    "        return predict"
   ]
  },
  {
   "cell_type": "code",
   "execution_count": 54,
   "metadata": {
    "collapsed": true
   },
   "outputs": [],
   "source": [
    "class textCnn(object):\n",
    "    def __init__(self, sequence_length, vocab_size, embedding_size, filter_sizes, num_filters, num_classes=2):\n",
    "        # sequence_length： 句子长度\n",
    "        # vocab_size： 词表大小\n",
    "        # embedding_size： 词向量长度\n",
    "        # filter_sizes： 卷积核大小（纵向）\n",
    "        # num_filters：每个filter_size对应的卷积核个数\n",
    "        # num_classes：类别个数，默认为2\n",
    "        \n",
    "        \n",
    "        # 样本label，样本\n",
    "        self.label = tf.placeholder(tf.int32, [None, num_classes], name=\"label\")\n",
    "        self.input_sentence = tf.placeholder(tf.int32, [None, sequence_length], name=\"input\")\n",
    "\n",
    "        with tf.name_scope(\"embedding\"):\n",
    "            filter_shape = [vocab_size, embedding_size]\n",
    "            # 使用截断正态分布初始化词向量\n",
    "            w = tf.Variable(tf.truncated_normal(filter_shape, stddev=0.1), name=\"embedding_matrix\")\n",
    "            self.embedded = tf.nn.embedding_lookup(params=w, ids=self.input_sentence)\n",
    "            \n",
    "            # 卷积层输入\n",
    "            self.embedded_expand = tf.expand_dims(self.embedded, -1)\n",
    "            \n",
    "\n",
    "        pooled_outputs = [] # 保存卷积+池化之后特征\n",
    "        for i, filter_size in enumerate(filter_sizes):\n",
    "            with tf.name_scope(\"conv-max-pool-%s\" % filter_size):\n",
    "                filter_shape = [filter_size, embedding_size, 1, num_filters]\n",
    "                W = tf.Variable(tf.truncated_normal(filter_shape, stddev=0.1), name=\"Conv_filter_%s\" % filter_size)\n",
    "                \n",
    "                # 使用卷积核\n",
    "                conv = tf.nn.conv2d(input=self.embedded_expand,\n",
    "                                    filter=W,\n",
    "                                    strides=[1, 1, 1, 1],\n",
    "                                    padding=\"VALID\")\n",
    "                \n",
    "                # 使用最大值池化\n",
    "                pooled = tf.nn.max_pool(\n",
    "                    value=conv,\n",
    "                    ksize=[1, sequence_length - filter_size + 1, 1, 1],\n",
    "                    strides=[1, 1, 1, 1],\n",
    "                    padding='VALID',\n",
    "                    name=\"pool\")\n",
    "                pooled_outputs.append(pooled)\n",
    "       \n",
    "        with tf.name_scope(\"full_connected_layer\"):\n",
    "            # 总的卷积核个数，每个卷积核产生的Feature Map经过池化层会变成一个值，卷积核的个数就是全连接的数字个数\n",
    "            num_filters_total = num_filters * len(filter_sizes) \n",
    "            self.h_pool = tf.concat(pooled_outputs, 3) # 矩阵合并\n",
    "            self.h_pool_flat = tf.reshape(self.h_pool, [-1, num_filters_total]) # 句子的特征向量表示\n",
    "            \n",
    "            w = tf.Variable(tf.truncated_normal(shape=[num_filters_total, num_classes], stddev=0.1), name=\"w\")\n",
    "            b = tf.Variable(tf.truncated_normal(shape=[num_classes]), name=\"b\")\n",
    "            self.score = tf.nn.xw_plus_b(self.h_pool_flat, w, b)\n",
    "\n",
    "        # with tf.name_scope(\"softmax\"):\n",
    "        #     self.result = tf.nn.softmax(logits=self.score, axis=1, name='softmax')\n",
    "\n",
    "        with tf.name_scope(\"loss\"):\n",
    "            self.real = tf.argmax(self.label, axis=1, name=\"real_label\")\n",
    "            self.predictions = tf.argmax(self.score, axis=1, name=\"predictions\")\n",
    "\n",
    "            losses = tf.nn.softmax_cross_entropy_with_logits_v2(labels=self.label, logits=self.score)\n",
    "            self.loss = tf.reduce_mean(losses)\n",
    "\n",
    "        with tf.name_scope(\"accuracy\"):\n",
    "            correct_predictions = tf.equal(self.predictions, self.real)\n",
    "            self.accuracy = tf.reduce_mean(tf.cast(correct_predictions, \"float\"), name=\"accuracy\")\n"
   ]
  },
  {
   "cell_type": "code",
   "execution_count": 101,
   "metadata": {
    "collapsed": false
   },
   "outputs": [],
   "source": [
    "class textCnnTrain(object):\n",
    "    def __init__(self):\n",
    "        self.sess = tf.Session()\n",
    "        self.model = textCnn(sequence_length=200,\n",
    "                             embedding_size=50,\n",
    "                             filter_sizes=[1, 2, 3],\n",
    "                             num_filters=10,\n",
    "                             num_classes=2,\n",
    "                             vocab_size=6000)\n",
    "        self.global_step = tf.Variable(0, name=\"global_step\", trainable=False)\n",
    "        self.optimizer = tf.train.AdamOptimizer(0.05).minimize(self.model.loss, global_step=self.global_step)\n",
    "        self.sess.run(tf.global_variables_initializer())\n",
    "        \n",
    "        self.feature = Feature()\n",
    "        self.train_data, self.dev_data, self.train_label, self.dev_label = \\\n",
    "            self.feature.train_data, self.feature.dev_data, self.feature.train_label, self.feature.dev_label\n",
    "        self.batches = get_batch(10, 100, self.train_data, self.train_label)\n",
    "\n",
    "        tf.summary.scalar('loss', self.model.loss)\n",
    "        tf.summary.scalar('accuracy', self.model.accuracy)\n",
    "        self.merged_summary_train = tf.summary.merge_all()\n",
    "        self.merged_summary_test = tf.summary.merge_all()\n",
    "        self.summary_writer_train = tf.summary.FileWriter(\"./summary/cnn_summary/train\", graph=self.sess.graph)\n",
    "        self.summary_writer_test = tf.summary.FileWriter(\"./summary/cnn_summary/test\", graph=self.sess.graph)"
   ]
  },
  {
   "cell_type": "code",
   "execution_count": 105,
   "metadata": {
    "collapsed": false
   },
   "outputs": [],
   "source": [
    "import numpy as np\n",
    "\n",
    "from sklearn.metrics import classification_report\n",
    "\n",
    "def main(model):\n",
    "    for data in model.batches:\n",
    "        x_train, y_train = zip(*data)\n",
    "        train_step(model, x_train, y_train)\n",
    "        current_step = tf.train.global_step(model.sess, model.global_step)\n",
    "        if current_step % 2 == 0:\n",
    "            dev_step(model, model.dev_data, model.dev_label)\n",
    "\n",
    "    predict = dev_step(model, model.dev_data, model.dev_label, return_predict=True)\n",
    "    y_true = np.argmax(model.dev_label, axis=1)\n",
    "    print(classification_report(y_true, predict))\n",
    "tf.reset_default_graph()"
   ]
  },
  {
   "cell_type": "code",
   "execution_count": 106,
   "metadata": {
    "collapsed": false
   },
   "outputs": [
    {
     "name": "stdout",
     "output_type": "stream",
     "text": [
      "number of words : 5395\n",
      "test: step 2, loss 0.4165300130844116, accuracy 0.8709677457809448\n",
      "test: step 4, loss 0.4378064274787903, accuracy 0.8709677457809448\n",
      "test: step 6, loss 0.4265703558921814, accuracy 0.8458781242370605\n",
      "test: step 8, loss 0.4150092303752899, accuracy 0.8387096524238586\n",
      "test: step 10, loss 0.3847312927246094, accuracy 0.8458781242370605\n",
      "test: step 12, loss 0.3580191433429718, accuracy 0.8530465960502625\n",
      "test: step 14, loss 0.37403327226638794, accuracy 0.8387096524238586\n",
      "test: step 16, loss 0.3566538989543915, accuracy 0.8458781242370605\n",
      "test: step 18, loss 0.2395993024110794, accuracy 0.9103942513465881\n",
      "test: step 20, loss 0.25793036818504333, accuracy 0.9068100452423096\n",
      "test: step 22, loss 0.23932108283042908, accuracy 0.9139785170555115\n",
      "test: step 24, loss 0.22121243178844452, accuracy 0.9283154010772705\n",
      "test: step 26, loss 0.23091767728328705, accuracy 0.9139785170555115\n",
      "test: step 28, loss 0.2015511840581894, accuracy 0.9426523447036743\n",
      "test: step 30, loss 0.24775031208992004, accuracy 0.939068078994751\n",
      "test: step 32, loss 0.17429737746715546, accuracy 0.9569892287254333\n",
      "test: step 34, loss 0.15815573930740356, accuracy 0.9534050226211548\n",
      "test: step 36, loss 0.3116355240345001, accuracy 0.8781362175941467\n",
      "test: step 38, loss 0.14509545266628265, accuracy 0.9641577005386353\n",
      "test: step 40, loss 0.3123267590999603, accuracy 0.9247311949729919\n",
      "test: step 42, loss 0.43361103534698486, accuracy 0.9211469292640686\n",
      "test: step 44, loss 0.2685495913028717, accuracy 0.9498208165168762\n",
      "test: step 46, loss 0.19673234224319458, accuracy 0.9641577005386353\n",
      "test: step 48, loss 0.23291198909282684, accuracy 0.9605734944343567\n",
      "test: step 50, loss 0.2677936255931854, accuracy 0.9534050226211548\n",
      "test: step 52, loss 0.260838121175766, accuracy 0.9569892287254333\n",
      "test: step 54, loss 0.21776744723320007, accuracy 0.9677419066429138\n",
      "test: step 56, loss 0.19621708989143372, accuracy 0.9677419066429138\n",
      "test: step 58, loss 0.36682194471359253, accuracy 0.9211469292640686\n",
      "test: step 60, loss 0.1853729784488678, accuracy 0.9569892287254333\n",
      "test: step 62, loss 0.355428010225296, accuracy 0.9462365508079529\n",
      "test: step 64, loss 0.4469989538192749, accuracy 0.9426523447036743\n",
      "test: step 66, loss 0.21892738342285156, accuracy 0.9605734944343567\n",
      "test: step 68, loss 0.4135189950466156, accuracy 0.8888888955116272\n",
      "test: step 70, loss 0.7374082803726196, accuracy 0.8028674125671387\n",
      "test: step 72, loss 0.20855355262756348, accuracy 0.9749103784561157\n",
      "test: step 74, loss 0.4305833876132965, accuracy 0.9641577005386353\n",
      "test: step 76, loss 0.3571702837944031, accuracy 0.9677419066429138\n",
      "test: step 78, loss 0.2549397647380829, accuracy 0.9713261723518372\n",
      "test: step 80, loss 0.20689503848552704, accuracy 0.9749103784561157\n",
      "test: step 82, loss 0.23342034220695496, accuracy 0.9713261723518372\n",
      "test: step 84, loss 0.23680536448955536, accuracy 0.9713261723518372\n",
      "test: step 86, loss 0.20824867486953735, accuracy 0.9749103784561157\n",
      "test: step 88, loss 0.2689663767814636, accuracy 0.9677419066429138\n",
      "test: step 90, loss 0.29475465416908264, accuracy 0.9641577005386353\n",
      "test: step 92, loss 0.2081080675125122, accuracy 0.9677419066429138\n",
      "test: step 94, loss 0.192854106426239, accuracy 0.9641577005386353\n",
      "test: step 96, loss 0.2066727876663208, accuracy 0.9569892287254333\n",
      "test: step 98, loss 0.2154826670885086, accuracy 0.9462365508079529\n",
      "test: step 100, loss 0.21030235290527344, accuracy 0.9426523447036743\n",
      "test: step 102, loss 0.16797097027301788, accuracy 0.9605734944343567\n",
      "test: step 104, loss 0.2213919311761856, accuracy 0.9534050226211548\n",
      "test: step 106, loss 0.4331062436103821, accuracy 0.9247311949729919\n",
      "test: step 108, loss 0.38369303941726685, accuracy 0.939068078994751\n",
      "test: step 110, loss 0.16075311601161957, accuracy 0.9569892287254333\n",
      "test: step 112, loss 0.2828418016433716, accuracy 0.9211469292640686\n",
      "test: step 114, loss 0.1660073697566986, accuracy 0.9713261723518372\n",
      "test: step 116, loss 0.17860662937164307, accuracy 0.9749103784561157\n",
      "test: step 118, loss 0.5785306096076965, accuracy 0.9354838728904724\n",
      "test: step 120, loss 0.5492433309555054, accuracy 0.9426523447036743\n",
      "test: step 122, loss 0.23729905486106873, accuracy 0.9713261723518372\n",
      "test: step 124, loss 0.2848794460296631, accuracy 0.9605734944343567\n",
      "test: step 126, loss 0.2985933721065521, accuracy 0.9641577005386353\n",
      "test: step 128, loss 0.2862185537815094, accuracy 0.9605734944343567\n",
      "test: step 130, loss 0.39504295587539673, accuracy 0.9749103784561157\n",
      "test: step 132, loss 0.7956225275993347, accuracy 0.9426523447036743\n",
      "test: step 134, loss 1.046341896057129, accuracy 0.9462365508079529\n",
      "test: step 136, loss 0.4828347861766815, accuracy 0.9749103784561157\n",
      "test: step 138, loss 0.4738042652606964, accuracy 0.9569892287254333\n",
      "test: step 140, loss 0.6879775524139404, accuracy 0.9283154010772705\n",
      "test: step 142, loss 0.731741726398468, accuracy 0.9211469292640686\n",
      "test: step 144, loss 0.6222376227378845, accuracy 0.9462365508079529\n",
      "test: step 146, loss 0.5957976579666138, accuracy 0.9498208165168762\n",
      "test: step 148, loss 0.5994520783424377, accuracy 0.9534050226211548\n",
      "test: step 150, loss 0.6413426995277405, accuracy 0.9462365508079529\n",
      "test: step 152, loss 0.7080735564231873, accuracy 0.939068078994751\n",
      "test: step 154, loss 0.4645771384239197, accuracy 0.9498208165168762\n",
      "test: step 156, loss 0.647659182548523, accuracy 0.9426523447036743\n",
      "test: step 158, loss 0.6561069488525391, accuracy 0.9462365508079529\n",
      "test: step 160, loss 0.4472466707229614, accuracy 0.9534050226211548\n",
      "test: step 162, loss 0.46862760186195374, accuracy 0.9534050226211548\n",
      "test: step 164, loss 0.5752257108688354, accuracy 0.9426523447036743\n",
      "test: step 166, loss 0.4909104108810425, accuracy 0.9605734944343567\n",
      "test: step 168, loss 0.4877184331417084, accuracy 0.9641577005386353\n",
      "test: step 170, loss 0.588824450969696, accuracy 0.9534050226211548\n",
      "test: step 172, loss 0.5972048044204712, accuracy 0.9534050226211548\n",
      "test: step 174, loss 0.4587920904159546, accuracy 0.9534050226211548\n",
      "test: step 176, loss 0.4488579034805298, accuracy 0.9605734944343567\n",
      "test: step 178, loss 0.8598211407661438, accuracy 0.9462365508079529\n",
      "test: step 180, loss 0.34683701395988464, accuracy 0.9749103784561157\n",
      "test: step 182, loss 1.4622722864151, accuracy 0.856630802154541\n",
      "test: step 184, loss 0.5532600283622742, accuracy 0.9354838728904724\n",
      "test: step 186, loss 0.9078225493431091, accuracy 0.9534050226211548\n",
      "test: step 188, loss 2.4766688346862793, accuracy 0.8996415734291077\n",
      "test: step 190, loss 0.9513986110687256, accuracy 0.9534050226211548\n",
      "test: step 192, loss 0.4293258786201477, accuracy 0.9605734944343567\n",
      "test: step 194, loss 0.8955824971199036, accuracy 0.9068100452423096\n",
      "test: step 196, loss 2.6708571910858154, accuracy 0.7634408473968506\n",
      "test: step 198, loss 1.2138731479644775, accuracy 0.9032257795333862\n",
      "test: step 200, loss 0.8026474118232727, accuracy 0.9641577005386353\n",
      "test: step 202, loss 1.0478484630584717, accuracy 0.9641577005386353\n",
      "test: step 204, loss 1.3133984804153442, accuracy 0.9498208165168762\n",
      "test: step 206, loss 1.5381364822387695, accuracy 0.9426523447036743\n",
      "test: step 208, loss 2.086477518081665, accuracy 0.91756272315979\n",
      "test: step 210, loss 1.4352513551712036, accuracy 0.9283154010772705\n",
      "test: step 212, loss 1.0889233350753784, accuracy 0.9426523447036743\n",
      "test: step 214, loss 1.1490546464920044, accuracy 0.9247311949729919\n",
      "test: step 216, loss 0.9490249156951904, accuracy 0.9498208165168762\n",
      "test: step 218, loss 0.9079346656799316, accuracy 0.9534050226211548\n",
      "test: step 220, loss 0.9914205074310303, accuracy 0.9534050226211548\n",
      "test: step 222, loss 1.0158637762069702, accuracy 0.9569892287254333\n",
      "test: step 224, loss 1.1992454528808594, accuracy 0.9605734944343567\n",
      "test: step 226, loss 1.3152486085891724, accuracy 0.9641577005386353\n",
      "test: step 228, loss 1.47684907913208, accuracy 0.9569892287254333\n",
      "test: step 230, loss 1.5565241575241089, accuracy 0.9498208165168762\n",
      "test: step 232, loss 1.506861925125122, accuracy 0.9677419066429138\n",
      "test: step 234, loss 1.7150068283081055, accuracy 0.9605734944343567\n",
      "test: step 236, loss 1.6259554624557495, accuracy 0.9641577005386353\n",
      "test: step 238, loss 1.5988353490829468, accuracy 0.9677419066429138\n",
      "test: step 240, loss 1.6752989292144775, accuracy 0.9605734944343567\n",
      "test: step 242, loss 1.6167550086975098, accuracy 0.9641577005386353\n",
      "test: step 244, loss 1.5838474035263062, accuracy 0.9605734944343567\n",
      "test: step 246, loss 1.5607802867889404, accuracy 0.9605734944343567\n",
      "test: step 248, loss 1.500471830368042, accuracy 0.9641577005386353\n",
      "test: step 250, loss 1.4268180131912231, accuracy 0.9569892287254333\n",
      "test: step 252, loss 1.6952440738677979, accuracy 0.9605734944343567\n",
      "test: step 254, loss 2.267855167388916, accuracy 0.9534050226211548\n",
      "test: step 256, loss 1.5974359512329102, accuracy 0.9569892287254333\n",
      "test: step 258, loss 1.3590363264083862, accuracy 0.9534050226211548\n",
      "test: step 260, loss 1.6330128908157349, accuracy 0.9318996667861938\n",
      "test: step 262, loss 1.5714281797409058, accuracy 0.9354838728904724\n",
      "test: step 264, loss 1.3873138427734375, accuracy 0.939068078994751\n",
      "test: step 264, loss 1.3873138427734375, accuracy 0.939068078994751\n",
      "             precision    recall  f1-score   support\n",
      "\n",
      "          0       0.71      0.89      0.79        36\n",
      "          1       0.98      0.95      0.96       243\n",
      "\n",
      "avg / total       0.95      0.94      0.94       279\n",
      "\n"
     ]
    }
   ],
   "source": [
    "Net = textCnnTrain()\n",
    "main(Net)\n",
    "tf.reset_default_graph()"
   ]
  },
  {
   "cell_type": "code",
   "execution_count": 77,
   "metadata": {
    "collapsed": true
   },
   "outputs": [],
   "source": []
  },
  {
   "cell_type": "code",
   "execution_count": null,
   "metadata": {
    "collapsed": true
   },
   "outputs": [],
   "source": []
  }
 ],
 "metadata": {
  "kernelspec": {
   "display_name": "Python 3",
   "language": "python",
   "name": "python3"
  },
  "language_info": {
   "codemirror_mode": {
    "name": "ipython",
    "version": 3
   },
   "file_extension": ".py",
   "mimetype": "text/x-python",
   "name": "python",
   "nbconvert_exporter": "python",
   "pygments_lexer": "ipython3",
   "version": "3.6.0"
  }
 },
 "nbformat": 4,
 "nbformat_minor": 2
}
