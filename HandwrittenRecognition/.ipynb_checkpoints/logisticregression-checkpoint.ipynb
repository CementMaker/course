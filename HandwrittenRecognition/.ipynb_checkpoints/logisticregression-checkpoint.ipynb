{
 "cells": [
  {
   "cell_type": "code",
   "execution_count": 36,
   "metadata": {
    "collapsed": true
   },
   "outputs": [],
   "source": [
    "import tensorflow as tf\n",
    "from tensorflow.examples.tutorials.mnist import input_data"
   ]
  },
  {
   "cell_type": "code",
   "execution_count": 3,
   "metadata": {
    "collapsed": false
   },
   "outputs": [
    {
     "name": "stdout",
     "output_type": "stream",
     "text": [
      "Extracting ./data/fashion/train-images-idx3-ubyte.gz\n",
      "Extracting ./data/fashion/train-labels-idx1-ubyte.gz\n",
      "Extracting ./data/fashion/t10k-images-idx3-ubyte.gz\n",
      "Extracting ./data/fashion/t10k-labels-idx1-ubyte.gz\n"
     ]
    }
   ],
   "source": [
    "data = input_data.read_data_sets('./data/fashion')"
   ]
  },
  {
   "cell_type": "code",
   "execution_count": 35,
   "metadata": {
    "collapsed": false
   },
   "outputs": [
    {
     "ename": "AttributeError",
     "evalue": "'list' object has no attribute 'train'",
     "output_type": "error",
     "traceback": [
      "\u001b[0;31m---------------------------------------------------------------------------\u001b[0m",
      "\u001b[0;31mAttributeError\u001b[0m                            Traceback (most recent call last)",
      "\u001b[0;32m<ipython-input-35-4bdda1b6a074>\u001b[0m in \u001b[0;36m<module>\u001b[0;34m()\u001b[0m\n\u001b[0;32m----> 1\u001b[0;31m \u001b[0msample\u001b[0m \u001b[0;34m=\u001b[0m \u001b[0mdata\u001b[0m\u001b[0;34m.\u001b[0m\u001b[0mtrain\u001b[0m\u001b[0;34m.\u001b[0m\u001b[0mnext_batch\u001b[0m\u001b[0;34m(\u001b[0m\u001b[0;36m5000\u001b[0m\u001b[0;34m)\u001b[0m\u001b[0;34m\u001b[0m\u001b[0m\n\u001b[0m\u001b[1;32m      2\u001b[0m \u001b[0mdataset\u001b[0m \u001b[0;34m=\u001b[0m \u001b[0msample\u001b[0m\u001b[0;34m[\u001b[0m\u001b[0;36m0\u001b[0m\u001b[0;34m]\u001b[0m\u001b[0;34m\u001b[0m\u001b[0m\n\u001b[1;32m      3\u001b[0m \u001b[0mdataLabel\u001b[0m \u001b[0;34m=\u001b[0m \u001b[0msample\u001b[0m\u001b[0;34m[\u001b[0m\u001b[0;36m1\u001b[0m\u001b[0;34m]\u001b[0m\u001b[0;34m\u001b[0m\u001b[0m\n\u001b[1;32m      4\u001b[0m \u001b[0mprint\u001b[0m\u001b[0;34m(\u001b[0m\u001b[0mdataset\u001b[0m\u001b[0;34m.\u001b[0m\u001b[0mshape\u001b[0m\u001b[0;34m,\u001b[0m \u001b[0mdataLabel\u001b[0m\u001b[0;34m.\u001b[0m\u001b[0mshape\u001b[0m\u001b[0;34m)\u001b[0m\u001b[0;34m\u001b[0m\u001b[0m\n",
      "\u001b[0;31mAttributeError\u001b[0m: 'list' object has no attribute 'train'"
     ]
    }
   ],
   "source": [
    "sample = data.train.next_batch(5000)\n",
    "dataset = sample[0]\n",
    "dataLabel = sample[1]\n",
    "print(dataset.shape, dataLabel.shape)"
   ]
  },
  {
   "cell_type": "code",
   "execution_count": 33,
   "metadata": {
    "collapsed": false
   },
   "outputs": [
    {
     "data": {
      "image/png": "[encoded data removed]",
      "text/plain": [
       "<matplotlib.figure.Figure at 0x153211390>"
      ]
     },
     "metadata": {},
     "output_type": "display_data"
    }
   ],
   "source": [
    "import random\n",
    "import matplotlib.pyplot as plt\n",
    "\n",
    "plt.subplot(221)\n",
    "plt.imshow(dataset[random.randint(1, 5000) + 100].reshape(28, 28), cmap=plt.get_cmap('PuBuGn_r'))\n",
    "plt.subplot(222)\n",
    "plt.imshow(dataset[random.randint(1, 5000) + 200].reshape(28, 28), cmap=plt.get_cmap('PuBuGn_r'))\n",
    "plt.subplot(223)\n",
    "plt.imshow(dataset[random.randint(1, 5000) + 300].reshape(28, 28), cmap=plt.get_cmap('PuBuGn_r'))\n",
    "plt.subplot(224)\n",
    "plt.imshow(dataset[random.randint(1, 5000) + 400].reshape(28, 28), cmap=plt.get_cmap('PuBuGn_r'))\n",
    "plt.show()\n",
    "plt.close()"
   ]
  },
  {
   "cell_type": "code",
   "execution_count": 12,
   "metadata": {
    "collapsed": false
   },
   "outputs": [
    {
     "name": "stdout",
     "output_type": "stream",
     "text": [
      "(9000, 784)\n",
      "<class 'numpy.ndarray'>\n",
      "(1000, 784)\n",
      "<class 'numpy.ndarray'>\n",
      "(9000,)\n",
      "<class 'numpy.ndarray'>\n",
      "(1000,)\n",
      "<class 'numpy.ndarray'>\n",
      "(10000, 784)\n",
      "<class 'numpy.ndarray'>\n",
      "(10000,)\n",
      "<class 'numpy.ndarray'>\n"
     ]
    }
   ],
   "source": [
    "from sklearn.model_selection import train_test_split\n",
    "from sklearn.metrics import classification_report\n",
    "train_data, test_data, train_label, test_label = train_test_split(dataset, dataLabel, test_size=0.1)\n",
    "\n",
    "data = [train_data, test_data, train_label, test_label, dataset, dataLabel]\n",
    "for idx in data:\n",
    "    print(idx.shape)\n",
    "    print(type(idx))"
   ]
  },
  {
   "cell_type": "code",
   "execution_count": 14,
   "metadata": {
    "collapsed": false
   },
   "outputs": [],
   "source": [
    "from sklearn.linear_model import LogisticRegression"
   ]
  },
  {
   "cell_type": "code",
   "execution_count": 17,
   "metadata": {
    "collapsed": false
   },
   "outputs": [
    {
     "name": "stdout",
     "output_type": "stream",
     "text": [
      "0.852\n"
     ]
    }
   ],
   "source": [
    "from sklearn.linear_model import LogisticRegression\n",
    "logisticregression = LogisticRegression(C=0.1)\n",
    "logisticregression.fit(train_data, train_label)\n",
    "print(logisticregression.score(test_data, test_label))"
   ]
  },
  {
   "cell_type": "code",
   "execution_count": 18,
   "metadata": {
    "collapsed": false
   },
   "outputs": [
    {
     "name": "stdout",
     "output_type": "stream",
     "text": [
      "0.8755555555555555\n"
     ]
    }
   ],
   "source": [
    "print(logisticregression.score(train_data, train_label))"
   ]
  },
  {
   "cell_type": "code",
   "execution_count": 31,
   "metadata": {
    "collapsed": false
   },
   "outputs": [
    {
     "name": "stdout",
     "output_type": "stream",
     "text": [
      "[1800 1801 1802 ... 8997 8998 8999] [   0    1    2 ... 1797 1798 1799]\n",
      "0.836\n",
      "0.8377777777777777\n",
      "[   0    1    2 ... 8997 8998 8999] [1800 1801 1802 ... 3597 3598 3599]\n",
      "0.841\n",
      "0.83\n",
      "[   0    1    2 ... 8997 8998 8999] [3600 3601 3602 ... 5397 5398 5399]\n",
      "0.844\n",
      "0.8194444444444444\n",
      "[   0    1    2 ... 8997 8998 8999] [5400 5401 5402 ... 7197 7198 7199]\n",
      "0.843\n",
      "0.8466666666666667\n",
      "[   0    1    2 ... 7197 7198 7199] [7200 7201 7202 ... 8997 8998 8999]\n",
      "0.844\n",
      "0.8388888888888889\n"
     ]
    }
   ],
   "source": [
    "import numpy as np\n",
    "\n",
    "from sklearn.model_selection import KFold\n",
    "from sklearn.metrics import accuracy_score\n",
    "\n",
    "\n",
    "kf = KFold(n_splits=5, shuffle=False)\n",
    "\n",
    "train_ans, test_ans = [], []\n",
    "for train_index, test_index in kf.split(train_data):\n",
    "    # print(train_index, test_index)\n",
    "    train_data_kflod = train_data[train_index]\n",
    "    test_data_kflod = train_data[test_index]\n",
    "    train_label_kflod = train_label[train_index]\n",
    "    test_label_kflod = train_label[test_index]\n",
    "    # print(train_data_kflod.shape, test_data_kflod.shape)\n",
    "    logisticregression = LogisticRegression(C=1)\n",
    "    logisticregression.fit(train_data_kflod, train_label_kflod)\n",
    "    \n",
    "    predict_train_kflod = logisticregression.predict(test_data_kflod)\n",
    "    predict_test = logisticregression.predict(test_data)\n",
    "    \n",
    "    print(accuracy_score(predict_test, test_label), accuracy_score(predict_train_kflod, test_label_kflod))\n",
    "    \n",
    "    train_ans = np.append(train_ans, predict_train_kflod)\n",
    "    test_ans.append(predict_test)"
   ]
  },
  {
   "cell_type": "code",
   "execution_count": null,
   "metadata": {
    "collapsed": true
   },
   "outputs": [],
   "source": [
    "print"
   ]
  }
 ],
 "metadata": {
  "kernelspec": {
   "display_name": "Python 3",
   "language": "python",
   "name": "python3"
  },
  "language_info": {
   "codemirror_mode": {
    "name": "ipython",
    "version": 3
   },
   "file_extension": ".py",
   "mimetype": "text/x-python",
   "name": "python",
   "nbconvert_exporter": "python",
   "pygments_lexer": "ipython3",
   "version": "3.6.0"
  }
 },
 "nbformat": 4,
 "nbformat_minor": 2
}
