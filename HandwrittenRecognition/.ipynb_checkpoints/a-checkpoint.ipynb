{
 "cells": [
  {
   "cell_type": "code",
   "execution_count": 21,
   "metadata": {
    "collapsed": false
   },
   "outputs": [
    {
     "name": "stdout",
     "output_type": "stream",
     "text": [
      "Tensor(\"one_18/Conv2D:0\", shape=(?, 24, 24, 6), dtype=float32)\n",
      "Tensor(\"one_18/AvgPool:0\", shape=(?, 12, 12, 6), dtype=float32)\n",
      "Tensor(\"two_14/Conv2D:0\", shape=(?, 8, 8, 12), dtype=float32)\n",
      "Tensor(\"two_14/AvgPool:0\", shape=(?, 4, 4, 12), dtype=float32)\n",
      "Tensor(\"full_connected_layer_16/Reshape:0\", shape=(?, 192), dtype=float32)\n",
      "Tensor(\"full_connected_layer_16/xw_plus_b:0\", shape=(?, 10), dtype=float32)\n",
      "Tensor(\"predict_7/ArgMax:0\", shape=(?,), dtype=int64)\n"
     ]
    }
   ],
   "source": [
    "import numpy\n",
    "import tensorflow as tf\n",
    "\n",
    "\n",
    "input_data = tf.placeholder(tf.float32, shape=[None, 28, 28, 1], name=\"data\")\n",
    "label = tf.placeholder(tf.int32, shape=[None, 10], name=\"label\")\n",
    "\n",
    "with tf.name_scope(\"one\"):\n",
    "    filter_shape = [5, 5, 1, 6]\n",
    "    W = tf.Variable(tf.truncated_normal(filter_shape, stddev=0.1), name=\"W\")\n",
    "    conv1 = tf.nn.conv2d(input=input_data, filter=W, strides=[1, 1, 1, 1], padding=\"VALID\")\n",
    "    pool1 = tf.nn.avg_pool(value=conv1, ksize=[1,2,2,1], strides=[1,2,2,1], padding='VALID')\n",
    "\n",
    "with tf.name_scope(\"two\"):\n",
    "    filter_shape = [5, 5, 6, 12]\n",
    "    W = tf.Variable(tf.truncated_normal(filter_shape, stddev=0.1), name=\"W\")\n",
    "    conv2 = tf.nn.conv2d(input=pool1, filter=W, strides=[1, 1, 1, 1], padding=\"VALID\")\n",
    "    pool2 = tf.nn.avg_pool(value=conv2, ksize=[1,2,2,1], strides=[1,2,2,1], padding='VALID')\n",
    "    \n",
    "with tf.name_scope(\"full_connected_layer\"):\n",
    "    feature = tf.reshape(pool2, [-1, 192])\n",
    "    W = tf.Variable(tf.truncated_normal(shape=[192, 10], stddev=0.1), name=\"full_connected_layer_W\")\n",
    "    b = tf.Variable(tf.constant(0.1, shape=[10]), name=\"b\")\n",
    "    logits = tf.nn.xw_plus_b(feature, W, b)\n",
    "    \n",
    "with tf.name_scope('predict'):\n",
    "    predict = tf.arg_max(logits, dimension=1)\n",
    "    equal_tmp = tf.equal(predict, tf.arg_max(label, dimension=1))\n",
    "    accuracy = tf.reduce_mean(tf.cast(equal_tmp, dtype=tf.float16))\n",
    "\n",
    "with tf.name_scope(\"full_connected_layer\"):\n",
    "    losses = tf.nn.softmax_cross_entropy_with_logits_v2(labels=label, logits=logits)\n",
    "    loss = tf.reduce_mean(losses)\n",
    "    \n",
    "print_list = [conv1, pool1, conv2, pool2, feature, logits, predict]\n",
    "for tensor in print_list:\n",
    "    print(tensor)"
   ]
  },
  {
   "cell_type": "code",
   "execution_count": null,
   "metadata": {
    "collapsed": true
   },
   "outputs": [],
   "source": []
  },
  {
   "cell_type": "code",
   "execution_count": null,
   "metadata": {
    "collapsed": true
   },
   "outputs": [],
   "source": []
  }
 ],
 "metadata": {
  "kernelspec": {
   "display_name": "Python 3",
   "language": "python",
   "name": "python3"
  },
  "language_info": {
   "codemirror_mode": {
    "name": "ipython",
    "version": 3
   },
   "file_extension": ".py",
   "mimetype": "text/x-python",
   "name": "python",
   "nbconvert_exporter": "python",
   "pygments_lexer": "ipython3",
   "version": "3.6.0"
  }
 },
 "nbformat": 4,
 "nbformat_minor": 2
}
